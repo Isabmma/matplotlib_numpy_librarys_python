{
 "cells": [
  {
   "cell_type": "markdown",
   "metadata": {},
   "source": [
    "# Matplotlip - Ploting Graphics with Python\n",
    "\n",
    "### Importance\n",
    "\n",
    "- For data exploration and visualization, nothing better than using graphs for this. Although Python is programming, graphs make it easy for any project that works with data.\n",
    "\n",
    "### Structure\n",
    "\n",
    "- We will use the Matplotlib.pyplot module, which is the most used module in Python. There are others, like Seaborn and Plotly, if you want to see/use"
   ]
  },
  {
   "cell_type": "code",
   "execution_count": 1,
   "metadata": {},
   "outputs": [
    {
     "ename": "ModuleNotFoundError",
     "evalue": "No module named 'matplotlib'",
     "output_type": "error",
     "traceback": [
      "\u001b[1;31m---------------------------------------------------------------------------\u001b[0m",
      "\u001b[1;31mModuleNotFoundError\u001b[0m                       Traceback (most recent call last)",
      "\u001b[1;32mc:\\Users\\isabm\\Downloads\\Gabarito - Módulos e Introdução a Orientação a Objetos 06.ipynb Célula: 2\u001b[0m in \u001b[0;36m<cell line: 5>\u001b[1;34m()\u001b[0m\n\u001b[0;32m      <a href='vscode-notebook-cell:/c%3A/Users/isabm/Downloads/Gabarito%20-%20M%C3%B3dulos%20e%20Introdu%C3%A7%C3%A3o%20a%20Orienta%C3%A7%C3%A3o%20a%20Objetos%2006.ipynb#W1sZmlsZQ%3D%3D?line=1'>2</a>\u001b[0m meses \u001b[39m=\u001b[39m [\u001b[39m'\u001b[39m\u001b[39mjan\u001b[39m\u001b[39m'\u001b[39m, \u001b[39m'\u001b[39m\u001b[39mfev\u001b[39m\u001b[39m'\u001b[39m, \u001b[39m'\u001b[39m\u001b[39mmar\u001b[39m\u001b[39m'\u001b[39m, \u001b[39m'\u001b[39m\u001b[39mabr\u001b[39m\u001b[39m'\u001b[39m, \u001b[39m'\u001b[39m\u001b[39mmai\u001b[39m\u001b[39m'\u001b[39m, \u001b[39m'\u001b[39m\u001b[39mjun\u001b[39m\u001b[39m'\u001b[39m, \u001b[39m'\u001b[39m\u001b[39mjul\u001b[39m\u001b[39m'\u001b[39m, \u001b[39m'\u001b[39m\u001b[39mago\u001b[39m\u001b[39m'\u001b[39m, \u001b[39m'\u001b[39m\u001b[39mset\u001b[39m\u001b[39m'\u001b[39m, \u001b[39m'\u001b[39m\u001b[39mout\u001b[39m\u001b[39m'\u001b[39m, \u001b[39m'\u001b[39m\u001b[39mnov\u001b[39m\u001b[39m'\u001b[39m, \u001b[39m'\u001b[39m\u001b[39mdez\u001b[39m\u001b[39m'\u001b[39m]\n\u001b[0;32m      <a href='vscode-notebook-cell:/c%3A/Users/isabm/Downloads/Gabarito%20-%20M%C3%B3dulos%20e%20Introdu%C3%A7%C3%A3o%20a%20Orienta%C3%A7%C3%A3o%20a%20Objetos%2006.ipynb#W1sZmlsZQ%3D%3D?line=3'>4</a>\u001b[0m \u001b[39m#plotar o gráfico da forma mais simples\u001b[39;00m\n\u001b[1;32m----> <a href='vscode-notebook-cell:/c%3A/Users/isabm/Downloads/Gabarito%20-%20M%C3%B3dulos%20e%20Introdu%C3%A7%C3%A3o%20a%20Orienta%C3%A7%C3%A3o%20a%20Objetos%2006.ipynb#W1sZmlsZQ%3D%3D?line=4'>5</a>\u001b[0m \u001b[39mimport\u001b[39;00m \u001b[39mmatplotlib\u001b[39;00m\u001b[39m.\u001b[39;00m\u001b[39mpyplot\u001b[39;00m \u001b[39mas\u001b[39;00m \u001b[39mplt\u001b[39;00m\n\u001b[0;32m      <a href='vscode-notebook-cell:/c%3A/Users/isabm/Downloads/Gabarito%20-%20M%C3%B3dulos%20e%20Introdu%C3%A7%C3%A3o%20a%20Orienta%C3%A7%C3%A3o%20a%20Objetos%2006.ipynb#W1sZmlsZQ%3D%3D?line=6'>7</a>\u001b[0m plt\u001b[39m.\u001b[39mplot(meses, vendas_meses)\n\u001b[0;32m      <a href='vscode-notebook-cell:/c%3A/Users/isabm/Downloads/Gabarito%20-%20M%C3%B3dulos%20e%20Introdu%C3%A7%C3%A3o%20a%20Orienta%C3%A7%C3%A3o%20a%20Objetos%2006.ipynb#W1sZmlsZQ%3D%3D?line=7'>8</a>\u001b[0m plt\u001b[39m.\u001b[39mylabel(\u001b[39m'\u001b[39m\u001b[39mVendas\u001b[39m\u001b[39m'\u001b[39m)\n",
      "\u001b[1;31mModuleNotFoundError\u001b[0m: No module named 'matplotlib'"
     ]
    }
   ],
   "source": [
    "vendas_meses = [1500, 1727, 1350, 999, 1050, 1027, 1022, 1500, 2000, 2362, 2100, 2762]\n",
    "meses = ['jan', 'fev', 'mar', 'abr', 'mai', 'jun', 'jul', 'ago', 'set', 'out', 'nov', 'dez']\n",
    "\n",
    "#plotar o gráfico da forma mais simples\n",
    "import matplotlib.pyplot as plt\n",
    "\n",
    "plt.plot(meses, vendas_meses)\n",
    "plt.ylabel('Vendas')\n",
    "plt.xlabel('Meses')\n",
    "plt.axis([0, 12, 0, max(vendas_meses)+500])\n",
    "plt.show()"
   ]
  },
  {
   "cell_type": "markdown",
   "metadata": {},
   "source": [
    "- Add a Label on the X Axis or Y Axis"
   ]
  },
  {
   "cell_type": "markdown",
   "metadata": {},
   "source": [
    "- Change month names"
   ]
  },
  {
   "cell_type": "markdown",
   "metadata": {},
   "source": [
    "- Adjusting the Axis"
   ]
  }
 ],
 "metadata": {
  "kernelspec": {
   "display_name": "Python 3.10.4 64-bit",
   "language": "python",
   "name": "python3"
  },
  "language_info": {
   "codemirror_mode": {
    "name": "ipython",
    "version": 3
   },
   "file_extension": ".py",
   "mimetype": "text/x-python",
   "name": "python",
   "nbconvert_exporter": "python",
   "pygments_lexer": "ipython3",
   "version": "3.10.4"
  },
  "vscode": {
   "interpreter": {
    "hash": "396a487d0f9a1aeea6eec7e2661c1b70bd880358e710a503b71d50d0e4959784"
   }
  }
 },
 "nbformat": 4,
 "nbformat_minor": 4
}
